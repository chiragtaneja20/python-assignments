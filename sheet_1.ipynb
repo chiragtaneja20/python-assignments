{
 "cells": [
  {
   "cell_type": "markdown",
   "metadata": {},
   "source": [
    "## python work sheet 1"
   ]
  },
  {
   "cell_type": "markdown",
   "metadata": {},
   "source": [
    "1. write a Python program to print the following string in a specific format (see the output). Sample String : \"Twinkle, twinkle, little star, How I wonder what you are! Up above the world so high, Like a diamond in the sky. Twinkle, twinkle, little star, How I wonder what you are\"."
   ]
  },
  {
   "cell_type": "code",
   "execution_count": 1,
   "metadata": {},
   "outputs": [
    {
     "name": "stdout",
     "output_type": "stream",
     "text": [
      "Twinkle, twinkle, little star\n",
      " How I wonder what you are!\n",
      " Up above the world so high,\n",
      " Like a diamond in the sky.\n",
      " Twinkle, twinkle, little star,\n",
      " How I wonder what you are\n",
      "\n"
     ]
    }
   ],
   "source": [
    "sample_string = \"Twinkle, twinkle, little star\\n How I wonder what you are!\\n Up above the world so high,\\n Like a diamond in the sky.\\n Twinkle, twinkle, little star,\\n How I wonder what you are\\n\"\n",
    "\n",
    "print(sample_string)"
   ]
  },
  {
   "cell_type": "markdown",
   "metadata": {},
   "source": [
    "2. Write a Python program that accepts the user's first and last name and prints them in reverse order with a space between them."
   ]
  },
  {
   "cell_type": "code",
   "execution_count": 1,
   "metadata": {},
   "outputs": [
    {
     "name": "stdout",
     "output_type": "stream",
     "text": [
      "garihc ajenat\n"
     ]
    }
   ],
   "source": [
    "first_name = input(\"Enter your first name: \")\n",
    "last_name = input(\"Enter your last name: \")\n",
    "\n",
    "full_name = last_name + \" \" + first_name\n",
    "print(full_name[::-1])"
   ]
  },
  {
   "cell_type": "markdown",
   "metadata": {},
   "source": [
    "3. Write a Python program that calculates the area of a circle based on the radius entered by the user."
   ]
  },
  {
   "cell_type": "code",
   "execution_count": null,
   "metadata": {},
   "outputs": [],
   "source": [
    "pi = 3.14\n",
    "\n",
    "radius = float(input(\"Enter the radius of the circle: \"))\n",
    "area = pi * radius**2\n",
    "\n",
    "print(\"The area of the circle is:\", area)"
   ]
  },
  {
   "cell_type": "markdown",
   "metadata": {},
   "source": [
    "4. Write a Python program to display the first and last colors from the following list. color_list = [\"Red\",\"Green\",\"White\" ,\"Black\"]"
   ]
  },
  {
   "cell_type": "code",
   "execution_count": null,
   "metadata": {},
   "outputs": [],
   "source": [
    "color_list = [\"Red\", \"Green\", \"White\", \"Black\"]\n",
    "first_color = color_list[0]\n",
    "last_color = color_list[-1]\n",
    "print(\"First color:\", first_color)\n",
    "print(\"Last color:\", last_color)"
   ]
  },
  {
   "cell_type": "markdown",
   "metadata": {},
   "source": [
    "5. Write a Python program that accepts an integer (n) and computes the value of\n",
    "n+nn+nnn.\n",
    "Sample value of n is 5"
   ]
  },
  {
   "cell_type": "code",
   "execution_count": 2,
   "metadata": {},
   "outputs": [
    {
     "name": "stdout",
     "output_type": "stream",
     "text": [
      "Result: 615\n"
     ]
    }
   ],
   "source": [
    "n = int(input(\"Enter an integer: \"))\n",
    "result = n + int(str(n) + str(n)) + int(str(n) + str(n) + str(n))\n",
    "print(\"Result:\", result)"
   ]
  },
  {
   "cell_type": "markdown",
   "metadata": {},
   "source": [
    "6. Write a Python program that accepts a sequence of comma-separated numbers from the user and generates a list and a tuple of those numbers. Sample data : 3, 5, 7, 23"
   ]
  },
  {
   "cell_type": "code",
   "execution_count": null,
   "metadata": {},
   "outputs": [],
   "source": [
    "numbers = input(\"Enter a sequence of comma-separated numbers: \")\n",
    "number_list = numbers.split(\",\")\n",
    "number_tuple = tuple(number_list)\n",
    "\n",
    "print(\"List:\", number_list)\n",
    "print(\"Tuple:\", number_tuple)"
   ]
  },
  {
   "cell_type": "markdown",
   "metadata": {},
   "source": [
    "7. Write a program that will convert celsius value to Fahrenheit."
   ]
  },
  {
   "cell_type": "code",
   "execution_count": null,
   "metadata": {},
   "outputs": [],
   "source": [
    "celsius = float(input(\"Enter the temperature in Celsius: \"))\n",
    "fahrenheit = (celsius * 9/5) + 32\n",
    "print(\"The temperature in Fahrenheit is:\", fahrenheit)"
   ]
  },
  {
   "cell_type": "markdown",
   "metadata": {},
   "source": [
    "9. Write a program that will tell whether the number entered by the user is odd or even."
   ]
  },
  {
   "cell_type": "code",
   "execution_count": null,
   "metadata": {},
   "outputs": [],
   "source": [
    "number = int(input(\"Enter a number: \"))\n",
    "\n",
    "if number % 2 == 0:\n",
    "    print(\"The number is even.\")\n",
    "else:\n",
    "    print(\"The number is odd.\")"
   ]
  },
  {
   "cell_type": "markdown",
   "metadata": {},
   "source": [
    "10. Write a program that will tell whether the given year is a leap year or not.\n"
   ]
  },
  {
   "cell_type": "code",
   "execution_count": 3,
   "metadata": {},
   "outputs": [
    {
     "name": "stdout",
     "output_type": "stream",
     "text": [
      "the no is leap year\n"
     ]
    }
   ],
   "source": [
    "year = int(input(\"Enter any year\"))\n",
    "\n",
    "if year%4==0 and year% 100!=0:\n",
    "    print(\"the year you entered is a leap year\")\n",
    "elif year%400==0:\n",
    "    print(\"the year you entered is a leap year\")\n",
    "else:\n",
    "    print(\"the no is not leap year\")\n",
    "    "
   ]
  },
  {
   "cell_type": "markdown",
   "metadata": {},
   "source": [
    "11. Write a program to find the euclidean distance between two coordinates."
   ]
  },
  {
   "cell_type": "code",
   "execution_count": 4,
   "metadata": {},
   "outputs": [
    {
     "name": "stdout",
     "output_type": "stream",
     "text": [
      "The Euclidean distance between the two coordinates is: 5.0\n"
     ]
    }
   ],
   "source": [
    "\n",
    "x1 = 2\n",
    "y1 = 3\n",
    "\n",
    "x2 = 5\n",
    "y2 = 7\n",
    "\n",
    "distance =((x2 - x1)**2 + (y2 - y1)**2)**0.5\n",
    "\n",
    "print(\"The Euclidean distance between the two coordinates is:\", distance)"
   ]
  },
  {
   "cell_type": "markdown",
   "metadata": {},
   "source": [
    "12. Write a program that take a user input of three angles and will find out whether it can\n",
    "form a triangle or not."
   ]
  },
  {
   "cell_type": "code",
   "execution_count": null,
   "metadata": {},
   "outputs": [],
   "source": [
    "angle1 = float(input(\"Enter the first angle: \"))\n",
    "angle2 = float(input(\"Enter the second angle: \"))\n",
    "angle3 = float(input(\"Enter the third angle: \"))\n",
    "\n",
    "if angle1 + angle2 + angle3 == 180:\n",
    "    print(\"The angles can form a triangle.\")\n",
    "else:\n",
    "    print(\"The angles cannot form a triangle.\")"
   ]
  },
  {
   "cell_type": "markdown",
   "metadata": {},
   "source": [
    "13. WAP to find compound interest for given values."
   ]
  },
  {
   "cell_type": "code",
   "execution_count": null,
   "metadata": {},
   "outputs": [],
   "source": [
    "principal = 1000 \n",
    "rate = 0.05  \n",
    "compounding_frequency = 12  \n",
    "time = 5  \n",
    "\n",
    "amount = principal * (1 + rate/compounding_frequency)**(compounding_frequency*time)\n",
    "compound_interest = amount - principal\n",
    "\n",
    "print(\"Compound Interest:\", compound_interest)"
   ]
  },
  {
   "cell_type": "markdown",
   "metadata": {},
   "source": [
    "14. Given a positive integer N, the task is to write a Python program to check if the number\n",
    "is Prime or not in Python.\n"
   ]
  },
  {
   "cell_type": "code",
   "execution_count": 3,
   "metadata": {},
   "outputs": [
    {
     "name": "stdout",
     "output_type": "stream",
     "text": [
      "2 is a prime number.\n"
     ]
    }
   ],
   "source": [
    "\n",
    "N = int(input(\"Enter a positive integer: \"))\n",
    "\n",
    "if N <= 1:\n",
    "    print(N, \"is not a prime number.\")\n",
    "else:\n",
    "    is_prime = 0\n",
    "    for i in range(2, N):\n",
    "        if N % i == 0:\n",
    "            is_prime +=1\n",
    "            break\n",
    "    if is_prime > 0:\n",
    "        print(N, \"is not a prime number.\")\n",
    "    else:\n",
    "        print(N, \"is a prime number.\")\n"
   ]
  },
  {
   "cell_type": "markdown",
   "metadata": {},
   "source": [
    "15. Given a positive integer N.The task is to find 12 +22 +32 +.....+N2."
   ]
  },
  {
   "cell_type": "code",
   "execution_count": null,
   "metadata": {},
   "outputs": [],
   "source": [
    "n = int(input(\"enter the number: \"))\n",
    "sq_sum = 0\n",
    "for i in range(1,n+1) :\n",
    "    sq_sum = sum + i**2\n",
    "print(sum)"
   ]
  }
 ],
 "metadata": {
  "kernelspec": {
   "display_name": "Python 3",
   "language": "python",
   "name": "python3"
  },
  "language_info": {
   "codemirror_mode": {
    "name": "ipython",
    "version": 3
   },
   "file_extension": ".py",
   "mimetype": "text/x-python",
   "name": "python",
   "nbconvert_exporter": "python",
   "pygments_lexer": "ipython3",
   "version": "3.11.3"
  }
 },
 "nbformat": 4,
 "nbformat_minor": 2
}
