{
 "cells": [
  {
   "cell_type": "markdown",
   "metadata": {},
   "source": [
    "## python work sheet 4\n",
    "- name -> chirag taneja\n",
    "- group -> 2W13(RAI)\n",
    "- roll_no -> 102323072"
   ]
  },
  {
   "cell_type": "markdown",
   "metadata": {},
   "source": [
    "# Worksheet 4: NumPy Basics\n",
    "\n",
    "## Question 1: Array Creation\n",
    "1.1 Create a 1D array of integers from 5 to 25 using NumPy.\n",
    "1.2 Create a 2D array with 3 rows and 4 columns filled with random integers between 10 and 50."
   ]
  },
  {
   "cell_type": "code",
   "execution_count": 1,
   "metadata": {},
   "outputs": [
    {
     "name": "stdout",
     "output_type": "stream",
     "text": [
      "1D array from 5 to 25:\n",
      "[ 5  6  7  8  9 10 11 12 13 14 15 16 17 18 19 20 21 22 23 24 25]\n",
      "\n",
      "2D array with random integers between 10 and 50:\n",
      "[[39 42 11 31]\n",
      " [16 50 15 23]\n",
      " [30 12 50 44]]\n"
     ]
    }
   ],
   "source": [
    "# Question 1: Array Creation\n",
    "\n",
    "import numpy as np\n",
    "\n",
    "# 1.1 Create a 1D array of integers from 5 to 25 using NumPy.\n",
    "array_1d = np.arange(5, 26)\n",
    "print(\"1D array from 5 to 25:\")\n",
    "print(array_1d)\n",
    "\n",
    "# 1.2 Create a 2D array with 3 rows and 4 columns filled with random integers between 10 and 50.\n",
    "array_2d = np.random.randint(10, 51, size=(3, 4))\n",
    "print(\"\\n2D array with random integers between 10 and 50:\")\n",
    "print(array_2d)"
   ]
  },
  {
   "cell_type": "markdown",
   "metadata": {},
   "source": [
    "## Question 2: Array Attributes\n",
    "2.1 For the 1D array created in Question 1.1, find, and print its:\n",
    " - Shape\n",
    " - Size\n",
    " - Data type\n",
    "\n",
    "2.2 For the 2D array created in Question 1.2, find, and print its:\n",
    " - Shape\n",
    " - Size\n",
    " - Data type"
   ]
  },
  {
   "cell_type": "code",
   "execution_count": 2,
   "metadata": {},
   "outputs": [
    {
     "name": "stdout",
     "output_type": "stream",
     "text": [
      "Attributes of the 1D array:\n",
      "Shape: (21,)\n",
      "Size: 21\n",
      "Data type: int64\n",
      "\n",
      "Attributes of the 2D array:\n",
      "Shape: (3, 4)\n",
      "Size: 12\n",
      "Data type: int64\n"
     ]
    }
   ],
   "source": [
    "\n",
    "# 2.1 Attributes for the 1D array created in Question 1.1\n",
    "print(\"Attributes of the 1D array:\")\n",
    "print(f\"Shape: {array_1d.shape}\")\n",
    "print(f\"Size: {array_1d.size}\")\n",
    "print(f\"Data type: {array_1d.dtype}\")\n",
    "\n",
    "# 2.2 Attributes for the 2D array created in Question 1.2\n",
    "print(\"\\nAttributes of the 2D array:\")\n",
    "print(f\"Shape: {array_2d.shape}\")\n",
    "print(f\"Size: {array_2d.size}\")\n",
    "print(f\"Data type: {array_2d.dtype}\")"
   ]
  },
  {
   "cell_type": "markdown",
   "metadata": {},
   "source": [
    "## Question 3: Array Operations\n",
    "3.1 Create two 1D arrays:\n",
    " - Array1: [2, 4, 6, 8, 10]\n",
    " - Array2: [1, 3, 5, 7, 9]\n",
    "\n",
    "3.2 Perform the following operations and print the results:\n",
    " - Addition\n",
    " - Subtraction\n",
    " - Element-wise multiplication\n",
    " - Element-wise division"
   ]
  },
  {
   "cell_type": "code",
   "execution_count": 3,
   "metadata": {},
   "outputs": [
    {
     "name": "stdout",
     "output_type": "stream",
     "text": [
      "Array1: [ 2  4  6  8 10]\n",
      "Array2: [1 3 5 7 9]\n",
      "\n",
      "Addition: [ 3  7 11 15 19]\n",
      "Subtraction: [1 1 1 1 1]\n",
      "Element-wise Multiplication: [ 2 12 30 56 90]\n",
      "Element-wise Division: [2.         1.33333333 1.2        1.14285714 1.11111111]\n"
     ]
    }
   ],
   "source": [
    "# Question 3: Array Operations\n",
    "\n",
    "# 3.1 Create two 1D arrays\n",
    "Array1 = np.array([2, 4, 6, 8, 10])\n",
    "Array2 = np.array([1, 3, 5, 7, 9])\n",
    "\n",
    "print(\"Array1:\", Array1)\n",
    "print(\"Array2:\", Array2)\n",
    "\n",
    "# 3.2 Perform and print the results of various operations\n",
    "addition = Array1 + Array2\n",
    "print(\"\\nAddition:\", addition)\n",
    "\n",
    "subtraction = Array1 - Array2\n",
    "print(\"Subtraction:\", subtraction)\n",
    "\n",
    "elementwise_multiplication = Array1 * Array2\n",
    "print(\"Element-wise Multiplication:\", elementwise_multiplication)\n",
    "\n",
    "elementwise_division = Array1 / Array2\n",
    "print(\"Element-wise Division:\", elementwise_division)"
   ]
  },
  {
   "cell_type": "markdown",
   "metadata": {},
   "source": [
    "## Question 4: Broadcasting\n",
    "4.1 Create a 2D array of shape (3, 3) with values starting from 1 to 9.\n",
    "4.2 Using broadcasting, multiply this 2D array by a scalar value of 5. Print the result."
   ]
  },
  {
   "cell_type": "code",
   "execution_count": 4,
   "metadata": {},
   "outputs": [
    {
     "name": "stdout",
     "output_type": "stream",
     "text": [
      "Original 2D array:\n",
      "[[1 2 3]\n",
      " [4 5 6]\n",
      " [7 8 9]]\n",
      "\n",
      "2D array multiplied by 5:\n",
      "[[ 5 10 15]\n",
      " [20 25 30]\n",
      " [35 40 45]]\n"
     ]
    }
   ],
   "source": [
    "# Question 4: Broadcasting\n",
    "\n",
    "# 4.1 Create a 2D array of shape (3, 3) with values starting from 1 to 9.\n",
    "array_2d_broadcast = np.arange(1, 10).reshape(3, 3)\n",
    "print(\"Original 2D array:\")\n",
    "print(array_2d_broadcast)\n",
    "\n",
    "# 4.2 Using broadcasting, multiply this 2D array by a scalar value of 5.\n",
    "multiplied_array = array_2d_broadcast * 5\n",
    "print(\"\\n2D array multiplied by 5:\")\n",
    "print(multiplied_array)"
   ]
  },
  {
   "cell_type": "markdown",
   "metadata": {},
   "source": [
    "## Question 5: Slicing and Indexing\n",
    "5.1 Create a 2D array of shape (4, 4) with values ranging from 10 to 25.\n",
    "5.2 Extract the second row and the last column of the array.\n",
    "5.3 Replace the elements of the first row with zeros."
   ]
  },
  {
   "cell_type": "code",
   "execution_count": 5,
   "metadata": {},
   "outputs": [
    {
     "name": "stdout",
     "output_type": "stream",
     "text": [
      "Original 4x4 array:\n",
      "[[10 11 12 13]\n",
      " [14 15 16 17]\n",
      " [18 19 20 21]\n",
      " [22 23 24 25]]\n",
      "\n",
      "Second row: [14 15 16 17]\n",
      "Last column: [13 17 21 25]\n",
      "\n",
      "Array after replacing the first row with zeros:\n",
      "[[ 0  0  0  0]\n",
      " [14 15 16 17]\n",
      " [18 19 20 21]\n",
      " [22 23 24 25]]\n"
     ]
    }
   ],
   "source": [
    "# Question 5: Slicing and Indexing\n",
    "\n",
    "# 5.1 Create a 2D array of shape (4, 4) with values ranging from 10 to 25.\n",
    "array_2d_slice = np.arange(10, 26).reshape(4, 4)\n",
    "print(\"Original 4x4 array:\")\n",
    "print(array_2d_slice)\n",
    "\n",
    "# 5.2 Extract the second row and the last column of the array.\n",
    "second_row = array_2d_slice[1, :]\n",
    "last_column = array_2d_slice[:, -1]\n",
    "print(\"\\nSecond row:\", second_row)\n",
    "print(\"Last column:\", last_column)\n",
    "\n",
    "# 5.3 Replace the elements of the first row with zeros.\n",
    "array_2d_slice[0, :] = 0\n",
    "print(\"\\nArray after replacing the first row with zeros:\")\n",
    "print(array_2d_slice)"
   ]
  },
  {
   "cell_type": "markdown",
   "metadata": {},
   "source": [
    "## Question 6: Boolean Indexing\n",
    "6.1 Create a 1D array with random integers between 20 and 40 (10 elements).\n",
    "6.2 Use Boolean indexing to find all elements greater than 30."
   ]
  },
  {
   "cell_type": "code",
   "execution_count": null,
   "metadata": {},
   "outputs": [],
   "source": [
    "# Question 6: Boolean Indexing\n",
    "\n",
    "# 6.1 Create a 1D array with random integers between 20 and 40 (10 elements).\n",
    "array_bool = np.random.randint(20, 41, size=10)\n",
    "print(\"Original array:\", array_bool)\n",
    "\n",
    "# 6.2 Use Boolean indexing to find all elements greater than 30.\n",
    "greater_than_30 = array_bool[array_bool > 30]\n",
    "print(\"Elements greater than 30:\", greater_than_30)"
   ]
  },
  {
   "cell_type": "markdown",
   "metadata": {},
   "source": [
    "## Question 7: Reshaping\n",
    "7.1 Create a 1D array with 12 elements starting from 11.\n",
    "7.2 Reshape it into a 2D array of shape (3, 4). Print the reshaped array."
   ]
  },
  {
   "cell_type": "code",
   "execution_count": 6,
   "metadata": {},
   "outputs": [
    {
     "name": "stdout",
     "output_type": "stream",
     "text": [
      "Original 1D array: [11 12 13 14 15 16 17 18 19 20 21 22]\n",
      "\n",
      "Reshaped 3x4 array:\n",
      "[[11 12 13 14]\n",
      " [15 16 17 18]\n",
      " [19 20 21 22]]\n"
     ]
    }
   ],
   "source": [
    "# Question 7: Reshaping\n",
    "\n",
    "# 7.1 Create a 1D array with 12 elements starting from 11.\n",
    "array_reshape = np.arange(11, 23)\n",
    "print(\"Original 1D array:\", array_reshape)\n",
    "\n",
    "# 7.2 Reshape it into a 2D array of shape (3, 4). Print the reshaped array.\n",
    "reshaped_array = array_reshape.reshape(3, 4)\n",
    "print(\"\\nReshaped 3x4 array:\")\n",
    "print(reshaped_array)"
   ]
  },
  {
   "cell_type": "markdown",
   "metadata": {},
   "source": [
    "## Question 8: Matrix Operations\n",
    "8.1 Create two 2x2 matrices:\n",
    " - Matrix A: [[1, 2], [3, 4]]\n",
    " - Matrix B: [[5, 6], [7, 8]]\n",
    "\n",
    "8.2 Perform and print the results of the following operations:\n",
    " - Matrix multiplication\n",
    " - Transpose of Matrix A"
   ]
  },
  {
   "cell_type": "code",
   "execution_count": 7,
   "metadata": {},
   "outputs": [
    {
     "name": "stdout",
     "output_type": "stream",
     "text": [
      "Matrix A:\n",
      "[[1 2]\n",
      " [3 4]]\n",
      "\n",
      "Matrix B:\n",
      "[[5 6]\n",
      " [7 8]]\n",
      "\n",
      "Matrix Multiplication (A @ B):\n",
      "[[19 22]\n",
      " [43 50]]\n",
      "\n",
      "Transpose of Matrix A:\n",
      "[[1 3]\n",
      " [2 4]]\n"
     ]
    }
   ],
   "source": [
    "# Question 8: Matrix Operations\n",
    "\n",
    "# 8.1 Create two 2x2 matrices:\n",
    "Matrix_A = np.array([[1, 2], [3, 4]])\n",
    "Matrix_B = np.array([[5, 6], [7, 8]])\n",
    "\n",
    "print(\"Matrix A:\")\n",
    "print(Matrix_A)\n",
    "print(\"\\nMatrix B:\")\n",
    "print(Matrix_B)\n",
    "\n",
    "# 8.2 Perform and print the results of the following operations:\n",
    "\n",
    "# Matrix multiplication\n",
    "matrix_mult = np.matmul(Matrix_A, Matrix_B)\n",
    "print(\"\\nMatrix Multiplication (A @ B):\")\n",
    "print(matrix_mult)\n",
    "\n",
    "# Transpose of Matrix A\n",
    "transpose_A = Matrix_A.T\n",
    "print(\"\\nTranspose of Matrix A:\")\n",
    "print(transpose_A)"
   ]
  },
  {
   "cell_type": "markdown",
   "metadata": {},
   "source": [
    "## Question 9: Statistical Functions\n",
    "9.1 Create a 1D array with random integers between 10 and 60 (15 elements).\n",
    "9.2 Compute and print the following statistics:\n",
    " - Mean\n",
    " - Median\n",
    " - Standard deviation"
   ]
  },
  {
   "cell_type": "code",
   "execution_count": 8,
   "metadata": {},
   "outputs": [
    {
     "name": "stdout",
     "output_type": "stream",
     "text": [
      "Array for statistical analysis: [26 43 45 22 17 18 34 54 13 46 37 24 43 33 35]\n",
      "\n",
      "Mean: 32.666666666666664\n",
      "Median: 34.0\n",
      "Standard Deviation: 11.847175003162379\n"
     ]
    }
   ],
   "source": [
    "# 9.1 Create a 1D array with random integers between 10 and 60 (15 elements).\n",
    "array_stats = np.random.randint(10, 61, size=15)\n",
    "print(\"Array for statistical analysis:\", array_stats)\n",
    "\n",
    "# 9.2 Compute and print the following statistics:\n",
    "mean = np.mean(array_stats)\n",
    "median = np.median(array_stats)\n",
    "std_dev = np.std(array_stats)\n",
    "\n",
    "print(f\"\\nMean: {mean}\")\n",
    "print(f\"Median: {median}\")\n",
    "print(f\"Standard Deviation: {std_dev}\")"
   ]
  },
  {
   "cell_type": "markdown",
   "metadata": {},
   "source": [
    "## Question 10: Linear Algebra\n",
    "10.1 Create a 3x3 matrix:\n",
    "A = [[2, 1, 3],\n",
    "     [0, 5, 6],\n",
    "     [7, 8, 9]]\n",
    "\n",
    "10.2 Perform the following operations:\n",
    " - Find the determinant of matrix A.\n",
    " - Compute the inverse of matrix A.\n",
    " - Find the eigenvalues and eigenvectors of matrix A."
   ]
  },
  {
   "cell_type": "code",
   "execution_count": 9,
   "metadata": {},
   "outputs": [
    {
     "name": "stdout",
     "output_type": "stream",
     "text": [
      "Matrix A:\n",
      "[[2 1 3]\n",
      " [0 5 6]\n",
      " [7 8 9]]\n",
      "\n",
      "Determinant of Matrix A: -68.99999999999996\n",
      "\n",
      "Inverse of Matrix A:\n",
      "[[ 0.04347826 -0.2173913   0.13043478]\n",
      " [-0.60869565  0.04347826  0.17391304]\n",
      " [ 0.50724638  0.13043478 -0.14492754]]\n",
      "\n",
      "Eigenvalues of Matrix A:\n",
      "[15.45215427  2.40475147 -1.85690573]\n",
      "\n",
      "Eigenvectors of Matrix A:\n",
      "[[-0.22453607 -0.55941438 -0.38300969]\n",
      " [-0.48513596  0.7607706  -0.60830181]\n",
      " [-0.84511931 -0.3290648   0.69517803]]\n"
     ]
    }
   ],
   "source": [
    "A = np.array([[2, 1, 3],\n",
    "              [0, 5, 6],\n",
    "              [7, 8, 9]])\n",
    "\n",
    "print(\"Matrix A:\")\n",
    "print(A)\n",
    "\n",
    "# 10.2 Perform the following operations:\n",
    "\n",
    "# Find the determinant of matrix A.\n",
    "det_A = np.linalg.det(A)\n",
    "print(f\"\\nDeterminant of Matrix A: {det_A}\")\n",
    "\n",
    "# Compute the inverse of matrix A.\n",
    "inv_A = np.linalg.inv(A)\n",
    "print(\"\\nInverse of Matrix A:\")\n",
    "print(inv_A)\n",
    "\n",
    "\n",
    "# Find the eigenvalues and eigenvectors of matrix A.\n",
    "eigenvalues, eigenvectors = np.linalg.eig(A)\n",
    "print(\"\\nEigenvalues of Matrix A:\")\n",
    "print(eigenvalues)\n",
    "print(\"\\nEigenvectors of Matrix A:\")\n",
    "print(eigenvectors)"
   ]
  },
  {
   "cell_type": "code",
   "execution_count": null,
   "metadata": {},
   "outputs": [],
   "source": []
  }
 ],
 "metadata": {
  "kernelspec": {
   "display_name": "Python 3",
   "language": "python",
   "name": "python3"
  },
  "language_info": {
   "codemirror_mode": {
    "name": "ipython",
    "version": 3
   },
   "file_extension": ".py",
   "mimetype": "text/x-python",
   "name": "python",
   "nbconvert_exporter": "python",
   "pygments_lexer": "ipython3",
   "version": "3.11.3"
  }
 },
 "nbformat": 4,
 "nbformat_minor": 4
}
