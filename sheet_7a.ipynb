{
 "cells": [
  {
   "cell_type": "markdown",
   "metadata": {},
   "source": [
    "## python work sheet 7A\n",
    "- name -> chirag taneja\n",
    "- group -> 2W13(RAI)\n",
    "- roll_no -> 102323072"
   ]
  },
  {
   "cell_type": "markdown",
   "metadata": {},
   "source": [
    "### Question 1: Pandas Basics\n",
    "\n",
    "#### 1.1 Importing Pandas\n",
    "Write the command to import the Pandas library and check its version.\n",
    "\n",
    "#### 1.2 Creating a DataFrame\n",
    "Create a simple DataFrame using the following data:\n",
    "\n",
    "| Name    | Age | City         |\n",
    "|---------|-----|--------------|  \n",
    "| Alice   | 25  | New York     |\n",
    "| Bob     | 30  | Los Angeles  |\n",
    "| Charlie | 35  | Chicago      |\n",
    "\n",
    "Print the DataFrame."
   ]
  },
  {
   "cell_type": "code",
   "execution_count": 1,
   "metadata": {},
   "outputs": [
    {
     "name": "stdout",
     "output_type": "stream",
     "text": [
      "2.2.2\n",
      "      Name  Age         City\n",
      "0    Alice   25     New York\n",
      "1      Bob   30  Los Angeles\n",
      "2  Charlie   35      Chicago\n"
     ]
    }
   ],
   "source": [
    "import pandas as pd\n",
    "print(pd.__version__)\n",
    "\n",
    "# 1.2 Creating a DataFrame\n",
    "data = {\n",
    "    'Name': ['Alice', 'Bob', 'Charlie'],\n",
    "    'Age': [25, 30, 35],\n",
    "    'City': ['New York', 'Los Angeles', 'Chicago']\n",
    "}\n",
    "df = pd.DataFrame(data)\n",
    "print(df)"
   ]
  },
  {
   "cell_type": "markdown",
   "metadata": {},
   "source": [
    "### Question 2: Pandas Series\n",
    "\n",
    "#### 2.1 Creating a Series\n",
    "Create a Pandas Series from the list [100, 200, 300, 400, 500].\n",
    "Print the Series.\n",
    "\n",
    "#### 2.2 Accessing Elements in a Series\n",
    "From the Series created in Question 2.1, access the second and fourth elements and print them.\n",
    "\n",
    "#### 2.3 Series Operations\n",
    "Create a second Series S2 with values [10, 20, 30, 40, 50].\n",
    "Perform element-wise addition between the two Series (S1 from 2.1 and S2) and print the result."
   ]
  },
  {
   "cell_type": "code",
   "execution_count": 2,
   "metadata": {},
   "outputs": [
    {
     "name": "stdout",
     "output_type": "stream",
     "text": [
      "0    100\n",
      "1    200\n",
      "2    300\n",
      "3    400\n",
      "4    500\n",
      "dtype: int64\n",
      "200 400\n",
      "0    110\n",
      "1    220\n",
      "2    330\n",
      "3    440\n",
      "4    550\n",
      "dtype: int64\n"
     ]
    }
   ],
   "source": [
    "# 2.1 Creating a Series\n",
    "S1 = pd.Series([100, 200, 300, 400, 500])\n",
    "print(S1)\n",
    "\n",
    "# 2.2 Accessing Elements in a Series\n",
    "print(S1[1], S1[3])\n",
    "\n",
    "# 2.3 Series Operations\n",
    "S2 = pd.Series([10, 20, 30, 40, 50])\n",
    "result = S1 + S2\n",
    "print(result)"
   ]
  },
  {
   "cell_type": "markdown",
   "metadata": {},
   "source": [
    "### Question 3: DataFrame Basics\n",
    "\n",
    "#### 3.1 DataFrame Column Access\n",
    "Using the DataFrame created in Question 1.2, print only the 'Name' and 'City' columns.\n",
    "\n",
    "#### 3.2 Adding a New Column\n",
    "Add a new column Salary to the DataFrame in Question 1.2 with the following values: [50000, 60000, 70000].\n",
    "Print the updated DataFrame.\n",
    "\n",
    "#### 3.3 Basic Statistics on DataFrames\n",
    "Using the updated DataFrame, calculate and print:\n",
    "- The average Age\n",
    "- The total sum of Salary"
   ]
  },
  {
   "cell_type": "code",
   "execution_count": 3,
   "metadata": {},
   "outputs": [
    {
     "name": "stdout",
     "output_type": "stream",
     "text": [
      "      Name         City\n",
      "0    Alice     New York\n",
      "1      Bob  Los Angeles\n",
      "2  Charlie      Chicago\n",
      "      Name  Age         City  Salary\n",
      "0    Alice   25     New York   50000\n",
      "1      Bob   30  Los Angeles   60000\n",
      "2  Charlie   35      Chicago   70000\n",
      "Average Age: 30.0\n",
      "Total Salary: 180000\n"
     ]
    }
   ],
   "source": [
    "# 3.1 DataFrame Column Access\n",
    "print(df[['Name', 'City']])\n",
    "\n",
    "# 3.2 Adding a New Column\n",
    "df['Salary'] = [50000, 60000, 70000]\n",
    "print(df)\n",
    "\n",
    "# 3.3 Basic Statistics on DataFrames\n",
    "print(\"Average Age:\", df['Age'].mean())\n",
    "print(\"Total Salary:\", df['Salary'].sum())"
   ]
  },
  {
   "cell_type": "markdown",
   "metadata": {},
   "source": [
    "### Question 4: Filtering and Indexing\n",
    "\n",
    "#### 4.1 Conditional Filtering\n",
    "Filter the DataFrame from Question 3.2 to display rows where the Age is greater than 28.\n",
    "Print the filtered DataFrame.\n",
    "\n",
    "#### 4.2 Setting and Resetting Index\n",
    "Set the Name column as the index of the DataFrame and print the updated DataFrame.\n",
    "Then reset the index to the default and print the DataFrame again."
   ]
  },
  {
   "cell_type": "code",
   "execution_count": 4,
   "metadata": {},
   "outputs": [
    {
     "name": "stdout",
     "output_type": "stream",
     "text": [
      "      Name  Age         City  Salary\n",
      "1      Bob   30  Los Angeles   60000\n",
      "2  Charlie   35      Chicago   70000\n",
      "         Age         City  Salary\n",
      "Name                             \n",
      "Alice     25     New York   50000\n",
      "Bob       30  Los Angeles   60000\n",
      "Charlie   35      Chicago   70000\n",
      "      Name  Age         City  Salary\n",
      "0    Alice   25     New York   50000\n",
      "1      Bob   30  Los Angeles   60000\n",
      "2  Charlie   35      Chicago   70000\n"
     ]
    }
   ],
   "source": [
    "# 4.1 Conditional Filtering\n",
    "filtered_df = df[df['Age'] > 28]\n",
    "print(filtered_df)\n",
    "\n",
    "# 4.2 Setting and Resetting Index\n",
    "df_indexed = df.set_index('Name')\n",
    "print(df_indexed)\n",
    "\n",
    "df_reset = df_indexed.reset_index()\n",
    "print(df_reset)"
   ]
  },
  {
   "cell_type": "markdown",
   "metadata": {},
   "source": [
    "### Question 5: Working with CSV Data\n",
    "\n",
    "#### 5.1 Reading a CSV File\n",
    "Assume you have a CSV file called employees.csv with the following content:\n",
    "\n",
    "```\n",
    "Name, Department, Salary\n",
    "John, Sales, 50000\n",
    "Jane, Marketing, 60000\n",
    "Emily, HR, 55000\n",
    "```\n",
    "\n",
    "Write the code to read this CSV file into a Pandas DataFrame and print the contents of the DataFrame.\n",
    "\n",
    "#### 5.2 CSV Data Manipulation\n",
    "From the DataFrame created in 5.1, perform the following tasks:\n",
    "- Filter the rows where the Salary is greater than 55000.\n",
    "- Print only the Name and Department columns for the filtered rows."
   ]
  },
  {
   "cell_type": "code",
   "execution_count": 5,
   "metadata": {},
   "outputs": [
    {
     "name": "stdout",
     "output_type": "stream",
     "text": [
      "CSV file 'employees.csv' has been created.\n",
      "Contents of the CSV file:\n",
      "    Name Department  Salary\n",
      "0   John      Sales   50000\n",
      "1   Jane  Marketing   60000\n",
      "2  Emily         HR   55000\n",
      "\n",
      "Employees with Salary > 55000:\n",
      "   Name Department\n",
      "1  Jane  Marketing\n"
     ]
    }
   ],
   "source": [
    "# Question 5: Working with CSV Data\n",
    "\n",
    "# 5.1 Creating and Exporting a CSV File\n",
    "\n",
    "\n",
    "# Create a DataFrame\n",
    "employees_data = {\n",
    "    'Name': ['John', 'Jane', 'Emily'],\n",
    "    'Department': ['Sales', 'Marketing', 'HR'],\n",
    "    'Salary': [50000, 60000, 55000]\n",
    "}\n",
    "df_employees = pd.DataFrame(employees_data)\n",
    "\n",
    "# Export the DataFrame to a CSV file\n",
    "df_employees.to_csv('employees.csv', index=False)\n",
    "print(\"CSV file 'employees.csv' has been created.\")\n",
    "\n",
    "# 5.1 (continued) Reading the CSV File\n",
    "df_employees_read = pd.read_csv('employees.csv')\n",
    "print(\"Contents of the CSV file:\")\n",
    "print(df_employees_read)\n",
    "\n",
    "# 5.2 CSV Data Manipulation\n",
    "filtered_employees = df_employees_read[df_employees_read['Salary'] > 55000]\n",
    "print(\"\\nEmployees with Salary > 55000:\")\n",
    "print(filtered_employees[['Name', 'Department']])"
   ]
  },
  {
   "cell_type": "markdown",
   "metadata": {},
   "source": [
    "### Question 6: Grouping and Aggregation\n",
    "\n",
    "#### 6.1 Grouping by Department\n",
    "Using the DataFrame created in Question 5.1, group the data by the Department column and calculate the average Salary for each department. Print the result.\n",
    "\n",
    "#### 6.2 Aggregation\n",
    "For the same DataFrame, find the minimum and maximum Salary for each Department."
   ]
  },
  {
   "cell_type": "code",
   "execution_count": 6,
   "metadata": {},
   "outputs": [
    {
     "name": "stdout",
     "output_type": "stream",
     "text": [
      "Department\n",
      "HR           55000.0\n",
      "Marketing    60000.0\n",
      "Sales        50000.0\n",
      "Name: Salary, dtype: float64\n",
      "              min    max\n",
      "Department              \n",
      "HR          55000  55000\n",
      "Marketing   60000  60000\n",
      "Sales       50000  50000\n"
     ]
    }
   ],
   "source": [
    "# 6.1 Grouping by Department\n",
    "avg_salary_by_dept = df_employees.groupby('Department')['Salary'].mean()\n",
    "print(avg_salary_by_dept)\n",
    "\n",
    "# 6.2 Aggregation\n",
    "salary_stats_by_dept = df_employees.groupby('Department')['Salary'].agg(['min', 'max'])\n",
    "print(salary_stats_by_dept)"
   ]
  },
  {
   "cell_type": "markdown",
   "metadata": {},
   "source": [
    "### Question 7: Merging DataFrames\n",
    "\n",
    "#### 7.1 Merging Two DataFrames\n",
    "You are given two DataFrames:\n",
    "\n",
    "```python\n",
    "df1 = pd.DataFrame({\n",
    "    'Name': ['John', 'Jane', 'Emily'],\n",
    "    'Department': ['Sales', 'Marketing', 'HR']\n",
    "})\n",
    "\n",
    "df2 = pd.DataFrame({\n",
    "    'Name': ['John', 'Jane', 'Emily'],\n",
    "    'Experience (Years)': [5, 7, 3]\n",
    "})\n",
    "```\n",
    "\n",
    "Write the code to merge these two DataFrames on the Name column.\n",
    "Print the merged DataFrame."
   ]
  },
  {
   "cell_type": "code",
   "execution_count": 7,
   "metadata": {},
   "outputs": [
    {
     "name": "stdout",
     "output_type": "stream",
     "text": [
      "    Name Department  Experience (Years)\n",
      "0   John      Sales                   5\n",
      "1   Jane  Marketing                   7\n",
      "2  Emily         HR                   3\n"
     ]
    }
   ],
   "source": [
    "# 7.1 Merging Two DataFrames\n",
    "df1 = pd.DataFrame({\n",
    "    'Name': ['John', 'Jane', 'Emily'],\n",
    "    'Department': ['Sales', 'Marketing', 'HR']\n",
    "})\n",
    "\n",
    "df2 = pd.DataFrame({\n",
    "    'Name': ['John', 'Jane', 'Emily'],\n",
    "    'Experience (Years)': [5, 7, 3]\n",
    "})\n",
    "\n",
    "merged_df = pd.merge(df1, df2, on='Name')\n",
    "print(merged_df)\n"
   ]
  },
  {
   "cell_type": "markdown",
   "metadata": {},
   "source": [
    "### Question 8: Sorting\n",
    "\n",
    "#### 8.1 Sorting Data\n",
    "Sort the DataFrame from Question 7.1 based on the Experience (Years) column in descending order.\n",
    "Print the sorted DataFrame."
   ]
  },
  {
   "cell_type": "code",
   "execution_count": 8,
   "metadata": {},
   "outputs": [
    {
     "name": "stdout",
     "output_type": "stream",
     "text": [
      "    Name Department  Experience (Years)\n",
      "1   Jane  Marketing                   7\n",
      "0   John      Sales                   5\n",
      "2  Emily         HR                   3\n"
     ]
    }
   ],
   "source": [
    "\n",
    "# 8.1 Sorting Data\n",
    "sorted_df = merged_df.sort_values(by='Experience (Years)', ascending=False)\n",
    "print(sorted_df)"
   ]
  }
 ],
 "metadata": {
  "kernelspec": {
   "display_name": "Python 3",
   "language": "python",
   "name": "python3"
  },
  "language_info": {
   "codemirror_mode": {
    "name": "ipython",
    "version": 3
   },
   "file_extension": ".py",
   "mimetype": "text/x-python",
   "name": "python",
   "nbconvert_exporter": "python",
   "pygments_lexer": "ipython3",
   "version": "3.11.3"
  }
 },
 "nbformat": 4,
 "nbformat_minor": 4
}
