{
 "cells": [
  {
   "cell_type": "markdown",
   "metadata": {},
   "source": [
    "## python work sheet 3\n",
    "- name -> chirag taneja\n",
    "- group -> 2W13(RAI)\n",
    "- roll_no -> 102323072"
   ]
  },
  {
   "cell_type": "markdown",
   "metadata": {},
   "source": [
    "1. Write a Python program to calculate the difference between a given number and 17 with the help of function. If the number is greater than 17, return twice the absolute difference.\n"
   ]
  },
  {
   "cell_type": "code",
   "execution_count": 1,
   "metadata": {},
   "outputs": [
    {
     "name": "stdout",
     "output_type": "stream",
     "text": [
      "5\n"
     ]
    }
   ],
   "source": [
    "number = 12\n",
    "\n",
    "difference = number - 17\n",
    "if number > 17:\n",
    "    result = 2 * abs(difference)\n",
    "else:\n",
    "    result = abs(difference)\n",
    "\n",
    "print(result)"
   ]
  },
  {
   "cell_type": "markdown",
   "metadata": {},
   "source": [
    "2. Write a Python program for a function. to test whether a number is within 100 to 1000 or 2000."
   ]
  },
  {
   "cell_type": "code",
   "execution_count": 4,
   "metadata": {},
   "outputs": [
    {
     "name": "stdout",
     "output_type": "stream",
     "text": [
      "Number is in the range 100 to 2000\n"
     ]
    }
   ],
   "source": [
    "def test_number_range(number):\n",
    "    if (number >= 100 and number <= 1000):\n",
    "        return \"Number is in the range 100 to 1000\"\n",
    "    elif (number > 100 and number <= 2000):\n",
    "        return \"Number is in the range 100 to 2000\"\n",
    "    else:\n",
    "        return \"Number is not in the specified ranges\"\n",
    "\n",
    "\n",
    "number = 1500\n",
    "result = test_number_range(number)\n",
    "print(result)"
   ]
  },
  {
   "cell_type": "markdown",
   "metadata": {},
   "source": [
    "3. Write a Python program to reverse a string."
   ]
  },
  {
   "cell_type": "code",
   "execution_count": 6,
   "metadata": {},
   "outputs": [
    {
     "name": "stdout",
     "output_type": "stream",
     "text": [
      "!!!garihc\n"
     ]
    }
   ],
   "source": [
    "string = \"chirag!!!\"\n",
    "reversed_string = string[::-1]\n",
    "print(reversed_string)"
   ]
  },
  {
   "cell_type": "markdown",
   "metadata": {},
   "source": [
    "4. Write a Python function that accepts a string and counts the number of upper and lowercase letters."
   ]
  },
  {
   "cell_type": "code",
   "execution_count": 7,
   "metadata": {},
   "outputs": [
    {
     "name": "stdout",
     "output_type": "stream",
     "text": [
      "Number of uppercase letters:  1\n",
      "Number of lowercase letters:  5\n"
     ]
    }
   ],
   "source": [
    "def count_upper_lower(string):\n",
    "    upper_count = 0\n",
    "    lower_count = 0\n",
    "\n",
    "    for char in string:\n",
    "        if char.isupper():\n",
    "            upper_count += 1\n",
    "        elif char.islower():\n",
    "            lower_count += 1\n",
    "\n",
    "    return upper_count, lower_count\n",
    "\n",
    "\n",
    "string = 'Chirag!!!'\n",
    "upper_count, lower_count = count_upper_lower(string)\n",
    "print(\"Number of uppercase letters: \",upper_count)\n",
    "print(\"Number of lowercase letters: \",lower_count)\n",
    "\n"
   ]
  },
  {
   "cell_type": "markdown",
   "metadata": {},
   "source": [
    "5. Write a Python function that takes a list and returns a new list with distinct elements from the first list."
   ]
  },
  {
   "cell_type": "code",
   "execution_count": 8,
   "metadata": {},
   "outputs": [
    {
     "name": "stdout",
     "output_type": "stream",
     "text": [
      "[1, 2, 3, 4, 5]\n"
     ]
    }
   ],
   "source": [
    "def get_distinct_elements(lst):\n",
    "    return list(set(lst))\n",
    "\n",
    "\n",
    "original_list = [1, 2, 2, 3, 4, 4, 5]\n",
    "distinct_list = get_distinct_elements(original_list)\n",
    "print(distinct_list)"
   ]
  },
  {
   "cell_type": "markdown",
   "metadata": {},
   "source": [
    "6. Write a Python program to print the even numbers from a given list. Sample List : [1, 2, 3, 4, 5, 6, 7, 8, 9] Expected Result : [2, 4, 6, 8]\n"
   ]
  },
  {
   "cell_type": "code",
   "execution_count": 9,
   "metadata": {},
   "outputs": [
    {
     "name": "stdout",
     "output_type": "stream",
     "text": [
      "[2, 4, 6, 8]\n"
     ]
    }
   ],
   "source": [
    "sample_list = [1, 2, 3, 4, 5, 6, 7, 8, 9]\n",
    "even_numbers = []\n",
    "\n",
    "for num in sample_list:\n",
    "    if num % 2 == 0:\n",
    "        even_numbers.append(num)\n",
    "\n",
    "print(even_numbers)"
   ]
  },
  {
   "cell_type": "markdown",
   "metadata": {},
   "source": [
    "7. Write a Python program to access a function inside a function."
   ]
  },
  {
   "cell_type": "code",
   "execution_count": 11,
   "metadata": {},
   "outputs": [
    {
     "name": "stdout",
     "output_type": "stream",
     "text": [
      "This is the outer function\n",
      "The sum is: 15\n"
     ]
    }
   ],
   "source": [
    "def outer_function():\n",
    "    print(\"This is the outer function\")\n",
    "\n",
    "    def inner_function():\n",
    "        num1 = 5\n",
    "        num2 = 10\n",
    "        sum_result = num1 + num2\n",
    "        print(\"The sum is:\", sum_result)\n",
    "\n",
    "    inner_function()  # calling the inner function\n",
    "\n",
    "outer_function()  # calling the outer function"
   ]
  },
  {
   "cell_type": "markdown",
   "metadata": {},
   "source": [
    "8. Define a Python function student(). Using function attributes display the names of all\n",
    "arguments."
   ]
  },
  {
   "cell_type": "code",
   "execution_count": 12,
   "metadata": {},
   "outputs": [
    {
     "name": "stdout",
     "output_type": "stream",
     "text": [
      "('arg1', 'arg2', 'arg3')\n"
     ]
    }
   ],
   "source": [
    "def student(arg1, arg2, arg3):\n",
    "    pass\n",
    "\n",
    "## found out this method from the help of stackoverflow\n",
    "arguments = student.__code__.co_varnames\n",
    "print(arguments)\n"
   ]
  },
  {
   "cell_type": "markdown",
   "metadata": {},
   "source": [
    "9. Write a Python class named Student with two attributes: student_id, student_name. Add a new attribute: student_class. Create a function to display all attributes and their values in the Student class.\n"
   ]
  },
  {
   "cell_type": "code",
   "execution_count": 13,
   "metadata": {},
   "outputs": [
    {
     "name": "stdout",
     "output_type": "stream",
     "text": [
      "student_id: 1\n",
      "student_name: Alice\n",
      "student_class: Class A\n"
     ]
    }
   ],
   "source": [
    "class Student:\n",
    "    def __init__(self, student_id, student_name):\n",
    "        self.student_id = student_id\n",
    "        self.student_name = student_name\n",
    "        self.student_class = None\n",
    "\n",
    "    def display_attributes(self):\n",
    "        attributes = vars(self)\n",
    "        for attribute, value in attributes.items():\n",
    "            print(f\"{attribute}: {value}\")\n",
    "\n",
    "\n",
    "student1 = Student(1, \"Alice\")\n",
    "student1.student_class = \"Class A\"\n",
    "student1.display_attributes()"
   ]
  },
  {
   "cell_type": "markdown",
   "metadata": {},
   "source": [
    "10. Write a Python class named Student with two instances student1, student2 and assign values to the instances' attributes. Print all the attributes of the student1, student2 instances with their values in the given format."
   ]
  },
  {
   "cell_type": "code",
   "execution_count": 14,
   "metadata": {},
   "outputs": [
    {
     "name": "stdout",
     "output_type": "stream",
     "text": [
      "Student ID: 1\n",
      "Student Name: Alice\n",
      "Attributes of student2:\n",
      "Student ID: 2\n",
      "Student Name: Bob\n"
     ]
    }
   ],
   "source": [
    "class Student:\n",
    "    def __init__(self, student_id, student_name):\n",
    "        self.student_id = student_id\n",
    "        self.student_name = student_name\n",
    "\n",
    "\n",
    "student1 = Student(1, \"Alice\")\n",
    "student2 = Student(2, \"Bob\")\n",
    "\n",
    "\n",
    "print(\"Student ID:\", student1.student_id)\n",
    "print(\"Student Name:\", student1.student_name)\n",
    "\n",
    "print(\"Attributes of student2:\")\n",
    "print(\"Student ID:\", student2.student_id)\n",
    "print(\"Student Name:\", student2.student_name)"
   ]
  },
  {
   "cell_type": "markdown",
   "metadata": {},
   "source": [
    "11. Write a Python class named Circle constructed from a radius and two methods that will compute the area and the perimeter of a circle."
   ]
  },
  {
   "cell_type": "code",
   "execution_count": 2,
   "metadata": {},
   "outputs": [
    {
     "name": "stdout",
     "output_type": "stream",
     "text": [
      "Area: 78.53975\n",
      "Perimeter: 31.4159\n"
     ]
    }
   ],
   "source": [
    "class Circle:\n",
    "    def __init__(self, radius):\n",
    "        self.radius = radius\n",
    "\n",
    "    def compute_area(self):\n",
    "        return 3.14159 * self.radius ** 2\n",
    "\n",
    "    def compute_perimeter(self):\n",
    "        return 2 * 3.14159 * self.radius\n",
    "\n",
    "\n",
    "\n",
    "circle = Circle(5)\n",
    "area = circle.compute_area()\n",
    "perimeter = circle.compute_perimeter()\n",
    "print(\"Area:\", area)\n",
    "print(\"Perimeter:\", perimeter)"
   ]
  },
  {
   "cell_type": "markdown",
   "metadata": {},
   "source": [
    "\n",
    "12. Write a Python class that has two methods: get_String and print_String , get_String accept a string from the user and print_String prints the string in upper case."
   ]
  },
  {
   "cell_type": "code",
   "execution_count": 3,
   "metadata": {},
   "outputs": [
    {
     "name": "stdout",
     "output_type": "stream",
     "text": [
      "CHIRAG\n"
     ]
    }
   ],
   "source": [
    "class StringManipulator:\n",
    "    def __init__(self):\n",
    "        self.string = \"\"\n",
    "\n",
    "    def get_String(self):\n",
    "        self.string = input(\"Enter a string: \")\n",
    "\n",
    "    def print_String(self):\n",
    "        print(self.string.upper())\n",
    "\n",
    "manipulator = StringManipulator()\n",
    "manipulator.get_String()\n",
    "manipulator.print_String()"
   ]
  }
 ],
 "metadata": {
  "kernelspec": {
   "display_name": "my_central_env",
   "language": "python",
   "name": "python3"
  },
  "language_info": {
   "codemirror_mode": {
    "name": "ipython",
    "version": 3
   },
   "file_extension": ".py",
   "mimetype": "text/x-python",
   "name": "python",
   "nbconvert_exporter": "python",
   "pygments_lexer": "ipython3",
   "version": "3.11.3"
  }
 },
 "nbformat": 4,
 "nbformat_minor": 2
}
